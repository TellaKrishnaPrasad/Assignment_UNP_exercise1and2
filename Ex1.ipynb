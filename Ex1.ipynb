{
  "nbformat": 4,
  "nbformat_minor": 0,
  "metadata": {
    "kernelspec": {
      "display_name": "Python 3",
      "language": "python",
      "name": "python3"
    },
    "language_info": {
      "codemirror_mode": {
        "name": "ipython",
        "version": 3
      },
      "file_extension": ".py",
      "mimetype": "text/x-python",
      "name": "python",
      "nbconvert_exporter": "python",
      "pygments_lexer": "ipython3",
      "version": "3.7.3"
    },
    "learntools_metadata": {
      "lesson_index": 0,
      "type": "exercise"
    },
    "colab": {
      "name": "Ex1.ipynb",
      "provenance": [],
      "collapsed_sections": [],
      "include_colab_link": true
    }
  },
  "cells": [
    {
      "cell_type": "markdown",
      "metadata": {
        "id": "view-in-github",
        "colab_type": "text"
      },
      "source": [
        "<a href=\"https://colab.research.google.com/github/TellaKrishnaPrasad/Assignment_UNP_exercise1and2/blob/main/Ex1.ipynb\" target=\"_parent\"><img src=\"https://colab.research.google.com/assets/colab-badge.svg\" alt=\"Open In Colab\"/></a>"
      ]
    },
    {
      "cell_type": "markdown",
      "metadata": {
        "id": "0IRx5mcr3Z74"
      },
      "source": [
        "Notebooks are composed of blocks (called \"cells\") of text and code. Each of these is editable, though you'll mainly be editing the code cells to answer some questions.\n",
        "\n",
        "To get started, try running the code cell below (by pressing the ► button, or clicking on the cell and pressing ctrl+enter on your keyboard)."
      ]
    },
    {
      "cell_type": "code",
      "metadata": {
        "id": "4JO4GkJmA3f-",
        "colab": {
          "base_uri": "https://localhost:8080/",
          "height": 146
        },
        "outputId": "b54e6315-f852-47d3-d4ca-45ee1d2914d4"
      },
      "source": [
        "!pip install git+https://github.com/ML-Challenge/learntools.git\n",
        "from learntools.core import binder; binder.bind(globals())\n",
        "from learntools.python.ex1 import *\n",
        "print (\"setup complete!\")\n",
        "pi=3.14159\n",
        "diameter=3\n",
        "radius=diameter/2\n",
        "area=pi*(radius**2)\n",
        "print(area)\n",
        "q1.check()"
      ],
      "execution_count": 25,
      "outputs": [
        {
          "output_type": "stream",
          "name": "stdout",
          "text": [
            "Collecting git+https://github.com/ML-Challenge/learntools.git\n",
            "  Cloning https://github.com/ML-Challenge/learntools.git to /tmp/pip-req-build-ug_qwp96\n",
            "  Running command git clone -q https://github.com/ML-Challenge/learntools.git /tmp/pip-req-build-ug_qwp96\n"
          ]
        },
        {
          "output_type": "stream",
          "name": "stderr",
          "text": [
            "WARNING:root:Ignoring repeated attempt to bind to globals\n"
          ]
        },
        {
          "output_type": "stream",
          "name": "stdout",
          "text": [
            "setup complete!\n",
            "7.0685775\n"
          ]
        },
        {
          "output_type": "display_data",
          "data": {
            "application/javascript": [
              "parent.postMessage({\"jupyterEvent\": \"custom.exercise_interaction\", \"data\": {\"outcomeType\": 1, \"valueTowardsCompletion\": 0.25, \"interactionType\": 1, \"questionType\": 1, \"questionId\": \"1_CircleArea\", \"learnToolsVersion\": \"0.3.4\", \"failureMessage\": \"\", \"exceptionClass\": \"\", \"trace\": \"\"}}, \"*\")"
            ],
            "text/plain": [
              "<IPython.core.display.Javascript object>"
            ]
          },
          "metadata": {}
        },
        {
          "output_type": "display_data",
          "data": {
            "text/markdown": "<span style=\"color:#33cc33\">Correct</span>",
            "text/plain": [
              "Correct"
            ]
          },
          "metadata": {}
        }
      ]
    },
    {
      "cell_type": "code",
      "metadata": {
        "id": "o3ouzXuU3Z7-",
        "colab": {
          "base_uri": "https://localhost:8080/"
        },
        "outputId": "8995db20-8674-46ee-8cc0-6047680d0c14"
      },
      "source": [
        "print(\"You've successfully run some Python code\")\n",
        "print(\"Congratulations!\")"
      ],
      "execution_count": 2,
      "outputs": [
        {
          "output_type": "stream",
          "name": "stdout",
          "text": [
            "You've successfully run some Python code\n",
            "Congratulations!\n"
          ]
        }
      ]
    },
    {
      "cell_type": "markdown",
      "metadata": {
        "id": "Y3qKQd5H3Z8A"
      },
      "source": [
        "# Setup for running exercise\n",
        "\n",
        "1. Download learntools-master by clicking [here](https://drive.google.com/file/d/1aZx9Lk1nvSwqqxyPEYnaiHhbJ40FMkew/view?usp=sharing)\n",
        "2. Extract the zip in the same folder you are running this notebook\n",
        "3. Right Click the zip and select 7-zip --> Extract Here\n",
        "4. Copy the \"learntools\" folder to C:\\ProgramData\\Anaconda3\\Lib\\site-packages (*tip: ProgramData folder is hidden)"
      ]
    },
    {
      "cell_type": "markdown",
      "metadata": {
        "id": "sMiJwgou3Z8A"
      },
      "source": [
        "Try adding another line of code in the cell above and re-running it. \n",
        "\n",
        "Now let's get a little fancier:  Add a new code cell by clicking on an existing code cell, hitting the escape key, and then hitting the `a` or `b` key.  The `a` key will add a cell above the current cell, and `b` adds a cell below.\n",
        "\n",
        "Great! Now you know how to use Notebooks.\n",
        "\n",
        "Each hands-on exercise starts by setting up our feedback and code checking mechanism. Run the code cell below to do that. Then you'll be ready to move on to question 0."
      ]
    },
    {
      "cell_type": "code",
      "metadata": {
        "_kg_hide-input": true,
        "_kg_hide-output": true,
        "id": "5JwSyvtJ3Z8B",
        "colab": {
          "base_uri": "https://localhost:8080/"
        },
        "outputId": "8870ee10-c721-4373-d63d-911d0cf26d93"
      },
      "source": [
        "from learntools.core import binder; binder.bind(globals())\n",
        "from learntools.python.ex1 import *\n",
        "print(\"Setup complete! You're ready to start question 0.\")"
      ],
      "execution_count": 3,
      "outputs": [
        {
          "output_type": "stream",
          "name": "stderr",
          "text": [
            "WARNING:root:Ignoring repeated attempt to bind to globals\n"
          ]
        },
        {
          "output_type": "stream",
          "name": "stdout",
          "text": [
            "Setup complete! You're ready to start question 0.\n"
          ]
        }
      ]
    },
    {
      "cell_type": "markdown",
      "metadata": {
        "id": "FIddQ89Z3Z8C"
      },
      "source": [
        "# 0.\n",
        "\n",
        "*This is a silly question intended as an introduction to the format we use for hands-on exercises throughout this course.*\n",
        "\n",
        "**What is your favorite color? **\n",
        "\n",
        "To complete this question, create a variable called `color` in the cell below with an appropriate value. The function call `q0.check()` (which we've already provided in the cell below) will check your answer."
      ]
    },
    {
      "cell_type": "code",
      "metadata": {
        "id": "S319dWat3Z8C",
        "colab": {
          "base_uri": "https://localhost:8080/",
          "height": 46
        },
        "outputId": "62a3480e-461c-415f-db65-14a52195eb19"
      },
      "source": [
        "# create a variable called color with an appropriate value on the line below\n",
        "# (Remember, strings in Python must be enclosed in 'single' or \"double\" quotes)\n",
        "color='blue'\n",
        "# *Write you answer here*\n",
        "\n",
        "# Check your answer\n",
        "q0.check()"
      ],
      "execution_count": 4,
      "outputs": [
        {
          "output_type": "display_data",
          "data": {
            "application/javascript": [
              "parent.postMessage({\"jupyterEvent\": \"custom.exercise_interaction\", \"data\": {\"outcomeType\": 1, \"valueTowardsCompletion\": 0.25, \"interactionType\": 1, \"questionType\": 1, \"questionId\": \"0_ExerciseFormatTutorial\", \"learnToolsVersion\": \"0.3.4\", \"failureMessage\": \"\", \"exceptionClass\": \"\", \"trace\": \"\"}}, \"*\")"
            ],
            "text/plain": [
              "<IPython.core.display.Javascript object>"
            ]
          },
          "metadata": {}
        },
        {
          "output_type": "display_data",
          "data": {
            "text/markdown": "<span style=\"color:#33cc33\">Correct</span>",
            "text/plain": [
              "Correct"
            ]
          },
          "metadata": {}
        }
      ]
    },
    {
      "cell_type": "markdown",
      "metadata": {
        "id": "ChHbGIpe3Z8E"
      },
      "source": [
        "Didn't get the right answer? How do you not even know your own favorite color?!\n",
        "\n",
        "Delete the `#` in the line below to make one of the lines run. You can choose between getting a hint or the full answer by choosing which line to remove the `#` from. \n",
        "\n",
        "Removing the `#` is called uncommenting, because it changes that line from a \"comment\" which Python doesn't run to code, which Python does run."
      ]
    },
    {
      "cell_type": "code",
      "metadata": {
        "id": "xpFWQIR_3Z8F",
        "colab": {
          "base_uri": "https://localhost:8080/",
          "height": 46
        },
        "outputId": "13a29e4a-273f-4dc1-d7b3-8142847a7ac6"
      },
      "source": [
        "q0.hint()\n",
        "#q0.solution()"
      ],
      "execution_count": 5,
      "outputs": [
        {
          "output_type": "display_data",
          "data": {
            "application/javascript": [
              "parent.postMessage({\"jupyterEvent\": \"custom.exercise_interaction\", \"data\": {\"interactionType\": 2, \"questionType\": 1, \"questionId\": \"0_ExerciseFormatTutorial\", \"learnToolsVersion\": \"0.3.4\", \"valueTowardsCompletion\": 0.0, \"failureMessage\": \"\", \"exceptionClass\": \"\", \"trace\": \"\", \"outcomeType\": 4}}, \"*\")"
            ],
            "text/plain": [
              "<IPython.core.display.Javascript object>"
            ]
          },
          "metadata": {}
        },
        {
          "output_type": "display_data",
          "data": {
            "text/markdown": "<span style=\"color:#3366cc\">Hint:</span> Your favorite color rhymes with *glue*.",
            "text/plain": [
              "Hint: Your favorite color rhymes with *glue*."
            ]
          },
          "metadata": {}
        }
      ]
    },
    {
      "cell_type": "markdown",
      "metadata": {
        "id": "H-lRE9DT3Z8G"
      },
      "source": [
        "The upcoming questions work the same way. The only thing that will change are the question numbers. For the next question, you'll call `q1.check()`, `q1.hint()`, `q1.solution()`, for question 2, you'll call `q2.check()`, and so on."
      ]
    },
    {
      "cell_type": "markdown",
      "metadata": {
        "id": "W-Jh4AFi3Z8G"
      },
      "source": [
        "<hr/>\n",
        "\n",
        "# 1.\n",
        "\n",
        "Complete the code below. In case it's helpful, here is the table of available arithmetic operations:\n",
        "\n",
        "\n",
        "\n",
        "| Operator     | Name           | Description                                            |\n",
        "|--------------|----------------|--------------------------------------------------------|\n",
        "| ``a + b``    | Addition       | Sum of ``a`` and ``b``                                 |\n",
        "| ``a - b``    | Subtraction    | Difference of ``a`` and ``b``                          |\n",
        "| ``a * b``    | Multiplication | Product of ``a`` and ``b``                             |\n",
        "| ``a / b``    | True division  | Quotient of ``a`` and ``b``                            |\n",
        "| ``a // b``   | Floor division | Quotient of ``a`` and ``b``, removing fractional parts |\n",
        "| ``a % b``    | Modulus        | Integer remainder after division of ``a`` by ``b``     |\n",
        "| ``a ** b``   | Exponentiation | ``a`` raised to the power of ``b``                     |\n",
        "| ``-a``       | Negation       | The negative of ``a``                                  |\n",
        "\n",
        "<span style=\"display:none\"></span>\n"
      ]
    },
    {
      "cell_type": "code",
      "metadata": {
        "id": "AVYoOkfi3Z8G",
        "colab": {
          "base_uri": "https://localhost:8080/",
          "height": 46
        },
        "outputId": "0de22e06-3ba9-48b4-ed1e-fadf0c47eead"
      },
      "source": [
        "pi = 3.14159 # approximate\n",
        "diameter = 3\n",
        "\n",
        "# Create a variable called 'radius' equal to half the diameter\n",
        "radius=diameter/2\n",
        "# Create a variable called 'area', using the formula for the area of a circle: pi times the radius squared\n",
        "area=pi*radius**2\n",
        "# Check your answer\n",
        "q1.check()"
      ],
      "execution_count": 14,
      "outputs": [
        {
          "output_type": "display_data",
          "data": {
            "application/javascript": [
              "parent.postMessage({\"jupyterEvent\": \"custom.exercise_interaction\", \"data\": {\"outcomeType\": 1, \"valueTowardsCompletion\": 0.25, \"interactionType\": 1, \"questionType\": 1, \"questionId\": \"1_CircleArea\", \"learnToolsVersion\": \"0.3.4\", \"failureMessage\": \"\", \"exceptionClass\": \"\", \"trace\": \"\"}}, \"*\")"
            ],
            "text/plain": [
              "<IPython.core.display.Javascript object>"
            ]
          },
          "metadata": {}
        },
        {
          "output_type": "display_data",
          "data": {
            "text/markdown": "<span style=\"color:#33cc33\">Correct</span>",
            "text/plain": [
              "Correct"
            ]
          },
          "metadata": {}
        }
      ]
    },
    {
      "cell_type": "code",
      "metadata": {
        "id": "KTZz37SE3Z8H"
      },
      "source": [
        "# Uncomment and run the lines below if you need help\n",
        "# q1.hint()\n",
        "# q1.solution()"
      ],
      "execution_count": 18,
      "outputs": []
    },
    {
      "cell_type": "markdown",
      "metadata": {
        "id": "qKZT0qLe3Z8H"
      },
      "source": [
        "<hr/>\n",
        "\n",
        "# 2.\n",
        "\n",
        "Add code to the following cell to swap variables `a` and `b` (so that `a` refers to the object previously referred to by `b` and vice versa)."
      ]
    },
    {
      "cell_type": "code",
      "metadata": {
        "id": "6vkXSaWR3Z8I",
        "colab": {
          "base_uri": "https://localhost:8080/",
          "height": 194
        },
        "outputId": "72eb3e1a-7916-4d06-ad3d-92fdf3985eb1"
      },
      "source": [
        "########### Setup code - don't touch this part ######################\n",
        "# If you're curious, these are examples of lists. We'll talk about \n",
        "# them in depth a few lessons from now. For now, just know that they're\n",
        "# yet another type of Python object, like int or float.\n",
        "a = [1, 2, 3]\n",
        "b = [3, 2, 1]\n",
        "q2.store_original_ids()\n",
        "######################################################################\n",
        "\n",
        "# Your code goes here. Swap the values to which a and b refer.\n",
        "# If you get stuck, you can always uncomment one or both of the lines in\n",
        "# the next cell for a hint, or to peek at the solution.\n",
        "c=a\n",
        "a=b\n",
        "b=c\n",
        "\n",
        "######################################################################\n",
        "\n",
        "# Check your answer\n",
        "q2.check()"
      ],
      "execution_count": 19,
      "outputs": [
        {
          "output_type": "display_data",
          "data": {
            "application/javascript": [
              "parent.postMessage({\"jupyterEvent\": \"custom.exercise_interaction\", \"data\": {\"outcomeType\": 1, \"valueTowardsCompletion\": 0.25, \"interactionType\": 1, \"questionType\": 2, \"questionId\": \"2_VariableSwap\", \"learnToolsVersion\": \"0.3.4\", \"failureMessage\": \"\", \"exceptionClass\": \"\", \"trace\": \"\"}}, \"*\")"
            ],
            "text/plain": [
              "<IPython.core.display.Javascript object>"
            ]
          },
          "metadata": {}
        },
        {
          "output_type": "display_data",
          "data": {
            "text/markdown": "<span style=\"color:#33cc33\">Correct:</span> \n\nThe most straightforward solution is to use a third variable to temporarily store one of the old values. e.g.:\n\n    tmp = a\n    a = b\n    b = tmp\n\nIf you've read lots of Python code, you might have seen the following trick to swap two variables in one line:\n\n    a, b = b, a\n\nWe'll demystify this bit of Python magic later when we talk about *tuples*.",
            "text/plain": [
              "Correct: \n",
              "\n",
              "The most straightforward solution is to use a third variable to temporarily store one of the old values. e.g.:\n",
              "\n",
              "    tmp = a\n",
              "    a = b\n",
              "    b = tmp\n",
              "\n",
              "If you've read lots of Python code, you might have seen the following trick to swap two variables in one line:\n",
              "\n",
              "    a, b = b, a\n",
              "\n",
              "We'll demystify this bit of Python magic later when we talk about *tuples*."
            ]
          },
          "metadata": {}
        }
      ]
    },
    {
      "cell_type": "code",
      "metadata": {
        "id": "ItfcOKQq3Z8J"
      },
      "source": [
        "#q2.hint()"
      ],
      "execution_count": null,
      "outputs": []
    },
    {
      "cell_type": "code",
      "metadata": {
        "id": "gDe0WL_X3Z8J"
      },
      "source": [
        "#q2.solution()"
      ],
      "execution_count": null,
      "outputs": []
    },
    {
      "cell_type": "markdown",
      "metadata": {
        "id": "2cPyllZY3Z8K"
      },
      "source": [
        "<hr/>\n",
        "\n",
        "# 3a.\n",
        "\n",
        "Add parentheses to the following expression so that it evaluates to 1."
      ]
    },
    {
      "cell_type": "code",
      "metadata": {
        "id": "caklTtf83Z8L",
        "colab": {
          "base_uri": "https://localhost:8080/"
        },
        "outputId": "5709f566-ef56-457c-b919-b504a671da7a"
      },
      "source": [
        "(5 - 3) // 2"
      ],
      "execution_count": 20,
      "outputs": [
        {
          "output_type": "execute_result",
          "data": {
            "text/plain": [
              "1"
            ]
          },
          "metadata": {},
          "execution_count": 20
        }
      ]
    },
    {
      "cell_type": "code",
      "metadata": {
        "id": "VVaLyZ_t3Z8L"
      },
      "source": [
        "#q3.a.hint()"
      ],
      "execution_count": null,
      "outputs": []
    },
    {
      "cell_type": "code",
      "metadata": {
        "id": "KzFwz2q53Z8L",
        "colab": {
          "base_uri": "https://localhost:8080/",
          "height": 62
        },
        "outputId": "1ce92a8b-3224-4bc0-c5b3-0cb513f89040"
      },
      "source": [
        "# Check your answer (Run this code cell to receive credit!)\n",
        "q3.a.solution()"
      ],
      "execution_count": 21,
      "outputs": [
        {
          "output_type": "display_data",
          "data": {
            "application/javascript": [
              "parent.postMessage({\"jupyterEvent\": \"custom.exercise_interaction\", \"data\": {\"interactionType\": 3, \"questionType\": 4, \"questionId\": \"3.1_ArithmeticParensEasy\", \"learnToolsVersion\": \"0.3.4\", \"valueTowardsCompletion\": 0.0, \"failureMessage\": \"\", \"exceptionClass\": \"\", \"trace\": \"\", \"outcomeType\": 4}}, \"*\")"
            ],
            "text/plain": [
              "<IPython.core.display.Javascript object>"
            ]
          },
          "metadata": {}
        },
        {
          "output_type": "display_data",
          "data": {
            "text/markdown": "<span style=\"color:#33cc99\">Solution:</span> \n```python\n(5 - 3) // 2\n```",
            "text/plain": [
              "Solution: \n",
              "```python\n",
              "(5 - 3) // 2\n",
              "```"
            ]
          },
          "metadata": {}
        }
      ]
    },
    {
      "cell_type": "markdown",
      "metadata": {
        "id": "w5rn1chE3Z8M"
      },
      "source": [
        "# 3b.  <span title=\"A bit spicy\" style=\"color: darkgreen \">🌶️</span>\n",
        "\n",
        "<small>Questions, like this one, marked a spicy pepper are a bit harder.</small>\n",
        "\n",
        "Add parentheses to the following expression so that it evaluates to 0."
      ]
    },
    {
      "cell_type": "code",
      "metadata": {
        "id": "acKmH-3l3Z8M",
        "colab": {
          "base_uri": "https://localhost:8080/"
        },
        "outputId": "3609b01f-c62c-4299-f182-1682ae61f2bb"
      },
      "source": [
        "(8 - (3 * 2)) - (1 + 1)"
      ],
      "execution_count": 22,
      "outputs": [
        {
          "output_type": "execute_result",
          "data": {
            "text/plain": [
              "0"
            ]
          },
          "metadata": {},
          "execution_count": 22
        }
      ]
    },
    {
      "cell_type": "code",
      "metadata": {
        "id": "g8n4wrO03Z8M"
      },
      "source": [
        "#q3.b.hint()"
      ],
      "execution_count": null,
      "outputs": []
    },
    {
      "cell_type": "code",
      "metadata": {
        "id": "VgDtwnzC3Z8M",
        "colab": {
          "base_uri": "https://localhost:8080/",
          "height": 46
        },
        "outputId": "a6bee3b3-b0a6-405a-beb5-b77ed47c65d0"
      },
      "source": [
        "# Check your answer (Run this code cell to receive credit!)\n",
        "q3.b.solution()"
      ],
      "execution_count": 23,
      "outputs": [
        {
          "output_type": "display_data",
          "data": {
            "application/javascript": [
              "parent.postMessage({\"jupyterEvent\": \"custom.exercise_interaction\", \"data\": {\"interactionType\": 3, \"questionType\": 4, \"questionId\": \"3.2_ArithmeticParensHard\", \"learnToolsVersion\": \"0.3.4\", \"valueTowardsCompletion\": 0.0, \"failureMessage\": \"\", \"exceptionClass\": \"\", \"trace\": \"\", \"outcomeType\": 4}}, \"*\")"
            ],
            "text/plain": [
              "<IPython.core.display.Javascript object>"
            ]
          },
          "metadata": {}
        },
        {
          "output_type": "display_data",
          "data": {
            "text/markdown": "<span style=\"color:#33cc99\">Solution:</span> `(8 - 3) * (2 - (1 + 1))` is one solution. There may be others.",
            "text/plain": [
              "Solution: `(8 - 3) * (2 - (1 + 1))` is one solution. There may be others."
            ]
          },
          "metadata": {}
        }
      ]
    },
    {
      "cell_type": "markdown",
      "metadata": {
        "id": "wU1IPOY13Z8M"
      },
      "source": [
        "<hr/>\n",
        "\n",
        "# 4. \n",
        "Alice, Bob and Carol have agreed to pool their Halloween candy and split it evenly among themselves.\n",
        "For the sake of their friendship, any candies left over will be smashed. For example, if they collectively\n",
        "bring home 91 candies, they'll take 30 each and smash 1.\n",
        "\n",
        "Write an arithmetic expression below to calculate how many candies they must smash for a given haul."
      ]
    },
    {
      "cell_type": "code",
      "metadata": {
        "id": "d6A0lnro3Z8N",
        "colab": {
          "base_uri": "https://localhost:8080/",
          "height": 46
        },
        "outputId": "4a7d1773-a99c-4952-f9ca-e665cee8b78f"
      },
      "source": [
        "# Variables representing the number of candies collected by alice, bob, and carol\n",
        "alice_candies = 121\n",
        "bob_candies = 77\n",
        "carol_candies = 109\n",
        "\n",
        "# Your code goes here! Replace the right-hand side of this assignment with an expression\n",
        "# involving alice_candies, bob_candies, and carol_candies\n",
        "total_candies = alice_candies + bob_candies + carol_candies\n",
        "to_smash = total_candies%3\n",
        "\n",
        "\n",
        "# Check your answer\n",
        "q4.check()"
      ],
      "execution_count": 24,
      "outputs": [
        {
          "output_type": "display_data",
          "data": {
            "application/javascript": [
              "parent.postMessage({\"jupyterEvent\": \"custom.exercise_interaction\", \"data\": {\"outcomeType\": 1, \"valueTowardsCompletion\": 0.25, \"interactionType\": 1, \"questionType\": 1, \"questionId\": \"4_CandySplitting\", \"learnToolsVersion\": \"0.3.4\", \"failureMessage\": \"\", \"exceptionClass\": \"\", \"trace\": \"\"}}, \"*\")"
            ],
            "text/plain": [
              "<IPython.core.display.Javascript object>"
            ]
          },
          "metadata": {}
        },
        {
          "output_type": "display_data",
          "data": {
            "text/markdown": "<span style=\"color:#33cc33\">Correct</span>",
            "text/plain": [
              "Correct"
            ]
          },
          "metadata": {}
        }
      ]
    },
    {
      "cell_type": "code",
      "metadata": {
        "id": "bLIz8JTi3Z8N"
      },
      "source": [
        "#q4.hint()\n",
        "#q4.solution()"
      ],
      "execution_count": null,
      "outputs": []
    }
  ]
}